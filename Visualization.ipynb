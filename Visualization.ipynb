{
 "cells": [
  {
   "cell_type": "code",
   "execution_count": 1,
   "id": "e2fb4a7f-e9ab-4b40-8375-3cef0643a0df",
   "metadata": {},
   "outputs": [],
   "source": [
    "import altair as alt\n",
    "import pandas as pd"
   ]
  },
  {
   "cell_type": "code",
   "execution_count": 2,
   "id": "1677b987-67cf-4fba-abe5-5c737d6cbbfc",
   "metadata": {},
   "outputs": [],
   "source": [
    "#Read data\n",
    "df = pd.read_excel(\"Data/hgt_summary_altair.xlsx\", sheet_name=\"methods\")"
   ]
  },
  {
   "cell_type": "code",
   "execution_count": 3,
   "id": "3766090f",
   "metadata": {},
   "outputs": [],
   "source": [
    "#Assign label of each approach whether it is machine learning (ML), deep learning (DL) or others \n",
    "df[\"Approach\"] = df[\"Processes\"].astype(object).apply(lambda x: 'Machine Learning (ML)' if \"machine\" in x and \"deep\" not in x else ('Deep Learning (DL)' if \"deep\" in x else \"Others\"))"
   ]
  },
  {
   "cell_type": "code",
   "execution_count": 4,
   "id": "0db1a504",
   "metadata": {},
   "outputs": [],
   "source": [
    "#trend of ML and DL applications in computational approaches for Horizontal Gene Transfer (HGT)\n",
    "ml_dl_trend = df[[\"Year\",\"Approach\"]].groupby([\"Year\",\"Approach\"])[\"Approach\"].count()\\\n",
    "                                                                            .unstack()\\\n",
    "                                                                            .reset_index()\\\n",
    "                                                                            .sort_values(by=['Year'], ascending=True)\\\n",
    "                                                                            .set_index('Year')\\\n",
    "                                                                            .fillna(0)\\\n",
    "                                                                            .cumsum()\n",
    "\n",
    "ml_dl_trend_new = ml_dl_trend.stack().reset_index().rename(columns={0:\"Cumulative Count\"})\\\n",
    "                            .sort_values(by=['Year','Approach'], ascending=[True, False])"
   ]
  },
  {
   "cell_type": "code",
   "execution_count": 5,
   "id": "20ddd0dd",
   "metadata": {},
   "outputs": [
    {
     "data": {
      "text/html": [
       "<div>\n",
       "<style scoped>\n",
       "    .dataframe tbody tr th:only-of-type {\n",
       "        vertical-align: middle;\n",
       "    }\n",
       "\n",
       "    .dataframe tbody tr th {\n",
       "        vertical-align: top;\n",
       "    }\n",
       "\n",
       "    .dataframe thead th {\n",
       "        text-align: right;\n",
       "    }\n",
       "</style>\n",
       "<table border=\"1\" class=\"dataframe\">\n",
       "  <thead>\n",
       "    <tr style=\"text-align: right;\">\n",
       "      <th></th>\n",
       "      <th>Year</th>\n",
       "      <th>Approach</th>\n",
       "      <th>Cumulative Count</th>\n",
       "    </tr>\n",
       "  </thead>\n",
       "  <tbody>\n",
       "    <tr>\n",
       "      <th>2</th>\n",
       "      <td>2000</td>\n",
       "      <td>Others</td>\n",
       "      <td>1.0</td>\n",
       "    </tr>\n",
       "    <tr>\n",
       "      <th>1</th>\n",
       "      <td>2000</td>\n",
       "      <td>Machine Learning (ML)</td>\n",
       "      <td>0.0</td>\n",
       "    </tr>\n",
       "    <tr>\n",
       "      <th>0</th>\n",
       "      <td>2000</td>\n",
       "      <td>Deep Learning (DL)</td>\n",
       "      <td>0.0</td>\n",
       "    </tr>\n",
       "    <tr>\n",
       "      <th>5</th>\n",
       "      <td>2001</td>\n",
       "      <td>Others</td>\n",
       "      <td>3.0</td>\n",
       "    </tr>\n",
       "    <tr>\n",
       "      <th>4</th>\n",
       "      <td>2001</td>\n",
       "      <td>Machine Learning (ML)</td>\n",
       "      <td>1.0</td>\n",
       "    </tr>\n",
       "  </tbody>\n",
       "</table>\n",
       "</div>"
      ],
      "text/plain": [
       "   Year               Approach  Cumulative Count\n",
       "2  2000                 Others               1.0\n",
       "1  2000  Machine Learning (ML)               0.0\n",
       "0  2000     Deep Learning (DL)               0.0\n",
       "5  2001                 Others               3.0\n",
       "4  2001  Machine Learning (ML)               1.0"
      ]
     },
     "execution_count": 5,
     "metadata": {},
     "output_type": "execute_result"
    }
   ],
   "source": [
    "ml_dl_trend_new.head()"
   ]
  },
  {
   "cell_type": "code",
   "execution_count": 6,
   "id": "b4de47cb",
   "metadata": {},
   "outputs": [
    {
     "name": "stderr",
     "output_type": "stream",
     "text": [
      "/Users/miko/anaconda3/envs/viz/lib/python3.11/site-packages/altair/utils/core.py:410: FutureWarning: the convert_dtype parameter is deprecated and will be removed in a future version.  Do ``ser.astype(object).apply()`` instead if you want ``convert_dtype=False``.\n",
      "  col = df[col_name].apply(to_list_if_array, convert_dtype=False)\n"
     ]
    },
    {
     "data": {
      "text/html": [
       "\n",
       "<style>\n",
       "  #altair-viz-d35573abcad24220a977de3f8b3f678c.vega-embed {\n",
       "    width: 100%;\n",
       "    display: flex;\n",
       "  }\n",
       "\n",
       "  #altair-viz-d35573abcad24220a977de3f8b3f678c.vega-embed details,\n",
       "  #altair-viz-d35573abcad24220a977de3f8b3f678c.vega-embed details summary {\n",
       "    position: relative;\n",
       "  }\n",
       "</style>\n",
       "<div id=\"altair-viz-d35573abcad24220a977de3f8b3f678c\"></div>\n",
       "<script type=\"text/javascript\">\n",
       "  var VEGA_DEBUG = (typeof VEGA_DEBUG == \"undefined\") ? {} : VEGA_DEBUG;\n",
       "  (function(spec, embedOpt){\n",
       "    let outputDiv = document.currentScript.previousElementSibling;\n",
       "    if (outputDiv.id !== \"altair-viz-d35573abcad24220a977de3f8b3f678c\") {\n",
       "      outputDiv = document.getElementById(\"altair-viz-d35573abcad24220a977de3f8b3f678c\");\n",
       "    }\n",
       "    const paths = {\n",
       "      \"vega\": \"https://cdn.jsdelivr.net/npm/vega@5?noext\",\n",
       "      \"vega-lib\": \"https://cdn.jsdelivr.net/npm/vega-lib?noext\",\n",
       "      \"vega-lite\": \"https://cdn.jsdelivr.net/npm/vega-lite@5.14.1?noext\",\n",
       "      \"vega-embed\": \"https://cdn.jsdelivr.net/npm/vega-embed@6?noext\",\n",
       "    };\n",
       "\n",
       "    function maybeLoadScript(lib, version) {\n",
       "      var key = `${lib.replace(\"-\", \"\")}_version`;\n",
       "      return (VEGA_DEBUG[key] == version) ?\n",
       "        Promise.resolve(paths[lib]) :\n",
       "        new Promise(function(resolve, reject) {\n",
       "          var s = document.createElement('script');\n",
       "          document.getElementsByTagName(\"head\")[0].appendChild(s);\n",
       "          s.async = true;\n",
       "          s.onload = () => {\n",
       "            VEGA_DEBUG[key] = version;\n",
       "            return resolve(paths[lib]);\n",
       "          };\n",
       "          s.onerror = () => reject(`Error loading script: ${paths[lib]}`);\n",
       "          s.src = paths[lib];\n",
       "        });\n",
       "    }\n",
       "\n",
       "    function showError(err) {\n",
       "      outputDiv.innerHTML = `<div class=\"error\" style=\"color:red;\">${err}</div>`;\n",
       "      throw err;\n",
       "    }\n",
       "\n",
       "    function displayChart(vegaEmbed) {\n",
       "      vegaEmbed(outputDiv, spec, embedOpt)\n",
       "        .catch(err => showError(`Javascript Error: ${err.message}<br>This usually means there's a typo in your chart specification. See the javascript console for the full traceback.`));\n",
       "    }\n",
       "\n",
       "    if(typeof define === \"function\" && define.amd) {\n",
       "      requirejs.config({paths});\n",
       "      require([\"vega-embed\"], displayChart, err => showError(`Error loading script: ${err.message}`));\n",
       "    } else {\n",
       "      maybeLoadScript(\"vega\", \"5\")\n",
       "        .then(() => maybeLoadScript(\"vega-lite\", \"5.14.1\"))\n",
       "        .then(() => maybeLoadScript(\"vega-embed\", \"6\"))\n",
       "        .catch(showError)\n",
       "        .then(() => displayChart(vegaEmbed));\n",
       "    }\n",
       "  })({\"config\": {\"view\": {\"continuousWidth\": 300, \"continuousHeight\": 300}}, \"data\": {\"name\": \"data-2bdc3ff5ec505df7a4c423cacf8f2032\"}, \"mark\": {\"type\": \"bar\", \"stroke\": \"gray\"}, \"encoding\": {\"color\": {\"field\": \"Approach\", \"legend\": {\"columnPadding\": 25.0, \"direction\": \"horizontal\", \"labelOffset\": 1.0, \"labelPadding\": 10.0, \"legendX\": 130, \"legendY\": 350, \"orient\": \"none\", \"title\": \"\"}, \"scale\": {\"domain\": [\"Deep Learning (DL)\", \"Machine Learning (ML)\", \"Others\"], \"range\": [\"#A2A2A2\", \"#555555\", \"#FFFFFF\"]}, \"type\": \"nominal\"}, \"order\": {\"field\": \"Approach\", \"sort\": \"ascending\", \"type\": \"nominal\"}, \"x\": {\"axis\": {\"labelAngle\": -45}, \"field\": \"Year\", \"type\": \"ordinal\"}, \"y\": {\"field\": \"Cumulative Count\", \"type\": \"quantitative\"}}, \"width\": 600, \"$schema\": \"https://vega.github.io/schema/vega-lite/v5.14.1.json\", \"datasets\": {\"data-2bdc3ff5ec505df7a4c423cacf8f2032\": [{\"Year\": 2000, \"Approach\": \"Others\", \"Cumulative Count\": 1.0}, {\"Year\": 2000, \"Approach\": \"Machine Learning (ML)\", \"Cumulative Count\": 0.0}, {\"Year\": 2000, \"Approach\": \"Deep Learning (DL)\", \"Cumulative Count\": 0.0}, {\"Year\": 2001, \"Approach\": \"Others\", \"Cumulative Count\": 3.0}, {\"Year\": 2001, \"Approach\": \"Machine Learning (ML)\", \"Cumulative Count\": 1.0}, {\"Year\": 2001, \"Approach\": \"Deep Learning (DL)\", \"Cumulative Count\": 0.0}, {\"Year\": 2002, \"Approach\": \"Others\", \"Cumulative Count\": 4.0}, {\"Year\": 2002, \"Approach\": \"Machine Learning (ML)\", \"Cumulative Count\": 1.0}, {\"Year\": 2002, \"Approach\": \"Deep Learning (DL)\", \"Cumulative Count\": 0.0}, {\"Year\": 2003, \"Approach\": \"Others\", \"Cumulative Count\": 7.0}, {\"Year\": 2003, \"Approach\": \"Machine Learning (ML)\", \"Cumulative Count\": 1.0}, {\"Year\": 2003, \"Approach\": \"Deep Learning (DL)\", \"Cumulative Count\": 0.0}, {\"Year\": 2004, \"Approach\": \"Others\", \"Cumulative Count\": 9.0}, {\"Year\": 2004, \"Approach\": \"Machine Learning (ML)\", \"Cumulative Count\": 1.0}, {\"Year\": 2004, \"Approach\": \"Deep Learning (DL)\", \"Cumulative Count\": 0.0}, {\"Year\": 2005, \"Approach\": \"Others\", \"Cumulative Count\": 14.0}, {\"Year\": 2005, \"Approach\": \"Machine Learning (ML)\", \"Cumulative Count\": 3.0}, {\"Year\": 2005, \"Approach\": \"Deep Learning (DL)\", \"Cumulative Count\": 0.0}, {\"Year\": 2006, \"Approach\": \"Others\", \"Cumulative Count\": 19.0}, {\"Year\": 2006, \"Approach\": \"Machine Learning (ML)\", \"Cumulative Count\": 4.0}, {\"Year\": 2006, \"Approach\": \"Deep Learning (DL)\", \"Cumulative Count\": 0.0}, {\"Year\": 2007, \"Approach\": \"Others\", \"Cumulative Count\": 24.0}, {\"Year\": 2007, \"Approach\": \"Machine Learning (ML)\", \"Cumulative Count\": 4.0}, {\"Year\": 2007, \"Approach\": \"Deep Learning (DL)\", \"Cumulative Count\": 0.0}, {\"Year\": 2008, \"Approach\": \"Others\", \"Cumulative Count\": 29.0}, {\"Year\": 2008, \"Approach\": \"Machine Learning (ML)\", \"Cumulative Count\": 5.0}, {\"Year\": 2008, \"Approach\": \"Deep Learning (DL)\", \"Cumulative Count\": 0.0}, {\"Year\": 2009, \"Approach\": \"Others\", \"Cumulative Count\": 31.0}, {\"Year\": 2009, \"Approach\": \"Machine Learning (ML)\", \"Cumulative Count\": 5.0}, {\"Year\": 2009, \"Approach\": \"Deep Learning (DL)\", \"Cumulative Count\": 0.0}, {\"Year\": 2010, \"Approach\": \"Others\", \"Cumulative Count\": 32.0}, {\"Year\": 2010, \"Approach\": \"Machine Learning (ML)\", \"Cumulative Count\": 7.0}, {\"Year\": 2010, \"Approach\": \"Deep Learning (DL)\", \"Cumulative Count\": 0.0}, {\"Year\": 2011, \"Approach\": \"Others\", \"Cumulative Count\": 35.0}, {\"Year\": 2011, \"Approach\": \"Machine Learning (ML)\", \"Cumulative Count\": 8.0}, {\"Year\": 2011, \"Approach\": \"Deep Learning (DL)\", \"Cumulative Count\": 0.0}, {\"Year\": 2012, \"Approach\": \"Others\", \"Cumulative Count\": 39.0}, {\"Year\": 2012, \"Approach\": \"Machine Learning (ML)\", \"Cumulative Count\": 10.0}, {\"Year\": 2012, \"Approach\": \"Deep Learning (DL)\", \"Cumulative Count\": 0.0}, {\"Year\": 2013, \"Approach\": \"Others\", \"Cumulative Count\": 41.0}, {\"Year\": 2013, \"Approach\": \"Machine Learning (ML)\", \"Cumulative Count\": 11.0}, {\"Year\": 2013, \"Approach\": \"Deep Learning (DL)\", \"Cumulative Count\": 0.0}, {\"Year\": 2014, \"Approach\": \"Others\", \"Cumulative Count\": 45.0}, {\"Year\": 2014, \"Approach\": \"Machine Learning (ML)\", \"Cumulative Count\": 13.0}, {\"Year\": 2014, \"Approach\": \"Deep Learning (DL)\", \"Cumulative Count\": 0.0}, {\"Year\": 2015, \"Approach\": \"Others\", \"Cumulative Count\": 51.0}, {\"Year\": 2015, \"Approach\": \"Machine Learning (ML)\", \"Cumulative Count\": 15.0}, {\"Year\": 2015, \"Approach\": \"Deep Learning (DL)\", \"Cumulative Count\": 0.0}, {\"Year\": 2016, \"Approach\": \"Others\", \"Cumulative Count\": 58.0}, {\"Year\": 2016, \"Approach\": \"Machine Learning (ML)\", \"Cumulative Count\": 17.0}, {\"Year\": 2016, \"Approach\": \"Deep Learning (DL)\", \"Cumulative Count\": 0.0}, {\"Year\": 2017, \"Approach\": \"Others\", \"Cumulative Count\": 61.0}, {\"Year\": 2017, \"Approach\": \"Machine Learning (ML)\", \"Cumulative Count\": 18.0}, {\"Year\": 2017, \"Approach\": \"Deep Learning (DL)\", \"Cumulative Count\": 0.0}, {\"Year\": 2018, \"Approach\": \"Others\", \"Cumulative Count\": 70.0}, {\"Year\": 2018, \"Approach\": \"Machine Learning (ML)\", \"Cumulative Count\": 20.0}, {\"Year\": 2018, \"Approach\": \"Deep Learning (DL)\", \"Cumulative Count\": 2.0}, {\"Year\": 2019, \"Approach\": \"Others\", \"Cumulative Count\": 75.0}, {\"Year\": 2019, \"Approach\": \"Machine Learning (ML)\", \"Cumulative Count\": 21.0}, {\"Year\": 2019, \"Approach\": \"Deep Learning (DL)\", \"Cumulative Count\": 2.0}, {\"Year\": 2020, \"Approach\": \"Others\", \"Cumulative Count\": 82.0}, {\"Year\": 2020, \"Approach\": \"Machine Learning (ML)\", \"Cumulative Count\": 23.0}, {\"Year\": 2020, \"Approach\": \"Deep Learning (DL)\", \"Cumulative Count\": 3.0}, {\"Year\": 2021, \"Approach\": \"Others\", \"Cumulative Count\": 86.0}, {\"Year\": 2021, \"Approach\": \"Machine Learning (ML)\", \"Cumulative Count\": 27.0}, {\"Year\": 2021, \"Approach\": \"Deep Learning (DL)\", \"Cumulative Count\": 5.0}, {\"Year\": 2022, \"Approach\": \"Others\", \"Cumulative Count\": 90.0}, {\"Year\": 2022, \"Approach\": \"Machine Learning (ML)\", \"Cumulative Count\": 28.0}, {\"Year\": 2022, \"Approach\": \"Deep Learning (DL)\", \"Cumulative Count\": 6.0}, {\"Year\": 2023, \"Approach\": \"Others\", \"Cumulative Count\": 98.0}, {\"Year\": 2023, \"Approach\": \"Machine Learning (ML)\", \"Cumulative Count\": 28.0}, {\"Year\": 2023, \"Approach\": \"Deep Learning (DL)\", \"Cumulative Count\": 8.0}]}}, {\"mode\": \"vega-lite\"});\n",
       "</script>"
      ],
      "text/plain": [
       "alt.Chart(...)"
      ]
     },
     "execution_count": 6,
     "metadata": {},
     "output_type": "execute_result"
    }
   ],
   "source": [
    "#plot the trend of ML and DL applications in HGT detection\n",
    "\n",
    "ml_dl_yearly_trend = alt.Chart(ml_dl_trend_new).mark_bar(stroke='gray').encode(\n",
    "    x=alt.X('Year:O', axis=alt.Axis(labelAngle=-45)),\n",
    "    y=\"Cumulative Count\",\n",
    "    color=alt.Color('Approach', \n",
    "                    scale=alt.Scale(domain=[\"Deep Learning (DL)\",\"Machine Learning (ML)\",\"Others\"],\n",
    "                                    range=['#A2A2A2','#555555','#FFFFFF']),\n",
    "                   legend=alt.Legend(orient='none',\n",
    "                                    legendX=130, legendY=350,\n",
    "                                    direction='horizontal',\n",
    "                                    title='',\n",
    "                                    labelPadding=10.0,\n",
    "                                    labelOffset=1.0,\n",
    "                                    columnPadding=25.0)),\n",
    "    order=alt.Order(\"Approach\").sort(\"ascending\")\n",
    ").properties(width=600)\n",
    "\n",
    "ml_dl_yearly_trend"
   ]
  },
  {
   "cell_type": "code",
   "execution_count": 7,
   "id": "38fa802c",
   "metadata": {},
   "outputs": [],
   "source": [
    "#process the table to calculate the cumulative sum of each computational group per year\n",
    "computational_group_trend = df[[\"Year\",\"Computational Group\"]].groupby([\"Year\",\"Computational Group\"])[\"Computational Group\"].count()\\\n",
    "                                                                                                                            .unstack()\\\n",
    "                                                                                                                            .reset_index()\\\n",
    "                                                                                                                            .sort_values(by=['Year'], ascending=True)\\\n",
    "                                                                                                                            .set_index('Year')\\\n",
    "                                                                                                                            .fillna(0)\\\n",
    "                                                                                                                            .cumsum()\n",
    "\n",
    "#collapse the column into rows for creating a stacked bar chart\n",
    "computational_group_trend_stack = computational_group_trend.stack().reset_index().rename(columns={0:\"Cumulative Count\"})"
   ]
  },
  {
   "cell_type": "code",
   "execution_count": 8,
   "id": "e948fed8",
   "metadata": {},
   "outputs": [
    {
     "name": "stderr",
     "output_type": "stream",
     "text": [
      "/Users/miko/anaconda3/envs/viz/lib/python3.11/site-packages/altair/utils/core.py:410: FutureWarning: the convert_dtype parameter is deprecated and will be removed in a future version.  Do ``ser.astype(object).apply()`` instead if you want ``convert_dtype=False``.\n",
      "  col = df[col_name].apply(to_list_if_array, convert_dtype=False)\n"
     ]
    },
    {
     "data": {
      "text/html": [
       "\n",
       "<style>\n",
       "  #altair-viz-50c0a4f5b347447fb284d7eb1c8a0723.vega-embed {\n",
       "    width: 100%;\n",
       "    display: flex;\n",
       "  }\n",
       "\n",
       "  #altair-viz-50c0a4f5b347447fb284d7eb1c8a0723.vega-embed details,\n",
       "  #altair-viz-50c0a4f5b347447fb284d7eb1c8a0723.vega-embed details summary {\n",
       "    position: relative;\n",
       "  }\n",
       "</style>\n",
       "<div id=\"altair-viz-50c0a4f5b347447fb284d7eb1c8a0723\"></div>\n",
       "<script type=\"text/javascript\">\n",
       "  var VEGA_DEBUG = (typeof VEGA_DEBUG == \"undefined\") ? {} : VEGA_DEBUG;\n",
       "  (function(spec, embedOpt){\n",
       "    let outputDiv = document.currentScript.previousElementSibling;\n",
       "    if (outputDiv.id !== \"altair-viz-50c0a4f5b347447fb284d7eb1c8a0723\") {\n",
       "      outputDiv = document.getElementById(\"altair-viz-50c0a4f5b347447fb284d7eb1c8a0723\");\n",
       "    }\n",
       "    const paths = {\n",
       "      \"vega\": \"https://cdn.jsdelivr.net/npm/vega@5?noext\",\n",
       "      \"vega-lib\": \"https://cdn.jsdelivr.net/npm/vega-lib?noext\",\n",
       "      \"vega-lite\": \"https://cdn.jsdelivr.net/npm/vega-lite@5.14.1?noext\",\n",
       "      \"vega-embed\": \"https://cdn.jsdelivr.net/npm/vega-embed@6?noext\",\n",
       "    };\n",
       "\n",
       "    function maybeLoadScript(lib, version) {\n",
       "      var key = `${lib.replace(\"-\", \"\")}_version`;\n",
       "      return (VEGA_DEBUG[key] == version) ?\n",
       "        Promise.resolve(paths[lib]) :\n",
       "        new Promise(function(resolve, reject) {\n",
       "          var s = document.createElement('script');\n",
       "          document.getElementsByTagName(\"head\")[0].appendChild(s);\n",
       "          s.async = true;\n",
       "          s.onload = () => {\n",
       "            VEGA_DEBUG[key] = version;\n",
       "            return resolve(paths[lib]);\n",
       "          };\n",
       "          s.onerror = () => reject(`Error loading script: ${paths[lib]}`);\n",
       "          s.src = paths[lib];\n",
       "        });\n",
       "    }\n",
       "\n",
       "    function showError(err) {\n",
       "      outputDiv.innerHTML = `<div class=\"error\" style=\"color:red;\">${err}</div>`;\n",
       "      throw err;\n",
       "    }\n",
       "\n",
       "    function displayChart(vegaEmbed) {\n",
       "      vegaEmbed(outputDiv, spec, embedOpt)\n",
       "        .catch(err => showError(`Javascript Error: ${err.message}<br>This usually means there's a typo in your chart specification. See the javascript console for the full traceback.`));\n",
       "    }\n",
       "\n",
       "    if(typeof define === \"function\" && define.amd) {\n",
       "      requirejs.config({paths});\n",
       "      require([\"vega-embed\"], displayChart, err => showError(`Error loading script: ${err.message}`));\n",
       "    } else {\n",
       "      maybeLoadScript(\"vega\", \"5\")\n",
       "        .then(() => maybeLoadScript(\"vega-lite\", \"5.14.1\"))\n",
       "        .then(() => maybeLoadScript(\"vega-embed\", \"6\"))\n",
       "        .catch(showError)\n",
       "        .then(() => displayChart(vegaEmbed));\n",
       "    }\n",
       "  })({\"config\": {\"view\": {\"continuousWidth\": 300, \"continuousHeight\": 300}}, \"data\": {\"name\": \"data-88e103269a7461a5fb4b995259868373\"}, \"mark\": {\"type\": \"bar\", \"stroke\": \"gray\"}, \"encoding\": {\"color\": {\"field\": \"Computational Group\", \"legend\": {\"columnPadding\": 25.0, \"direction\": \"horizontal\", \"labelOffset\": 1.0, \"labelPadding\": 10.0, \"legendX\": 80, \"legendY\": 420, \"orient\": \"none\", \"title\": \"\"}, \"scale\": {\"domain\": [\"artificial intelligence (AI)\", \"comparative genomics\", \"hybrid\", \"sequence composition\"], \"range\": [\"#000000\", \"#a6cee3\", \"#1f78b4\", \"#b2df8a\"]}, \"type\": \"nominal\"}, \"order\": {\"field\": \"Computational Group\", \"sort\": \"ascending\", \"type\": \"nominal\"}, \"x\": {\"axis\": {\"labelAngle\": -45}, \"field\": \"Year\", \"type\": \"ordinal\"}, \"y\": {\"field\": \"Cumulative Count\", \"type\": \"quantitative\"}}, \"width\": 600, \"$schema\": \"https://vega.github.io/schema/vega-lite/v5.14.1.json\", \"datasets\": {\"data-88e103269a7461a5fb4b995259868373\": [{\"Year\": 2000, \"Computational Group\": \"artificial intelligence (AI)\", \"Cumulative Count\": 0.0}, {\"Year\": 2000, \"Computational Group\": \"comparative genomics\", \"Cumulative Count\": 0.0}, {\"Year\": 2000, \"Computational Group\": \"hybrid\", \"Cumulative Count\": 0.0}, {\"Year\": 2000, \"Computational Group\": \"sequence composition\", \"Cumulative Count\": 1.0}, {\"Year\": 2001, \"Computational Group\": \"artificial intelligence (AI)\", \"Cumulative Count\": 1.0}, {\"Year\": 2001, \"Computational Group\": \"comparative genomics\", \"Cumulative Count\": 2.0}, {\"Year\": 2001, \"Computational Group\": \"hybrid\", \"Cumulative Count\": 0.0}, {\"Year\": 2001, \"Computational Group\": \"sequence composition\", \"Cumulative Count\": 1.0}, {\"Year\": 2002, \"Computational Group\": \"artificial intelligence (AI)\", \"Cumulative Count\": 1.0}, {\"Year\": 2002, \"Computational Group\": \"comparative genomics\", \"Cumulative Count\": 2.0}, {\"Year\": 2002, \"Computational Group\": \"hybrid\", \"Cumulative Count\": 0.0}, {\"Year\": 2002, \"Computational Group\": \"sequence composition\", \"Cumulative Count\": 2.0}, {\"Year\": 2003, \"Computational Group\": \"artificial intelligence (AI)\", \"Cumulative Count\": 1.0}, {\"Year\": 2003, \"Computational Group\": \"comparative genomics\", \"Cumulative Count\": 3.0}, {\"Year\": 2003, \"Computational Group\": \"hybrid\", \"Cumulative Count\": 0.0}, {\"Year\": 2003, \"Computational Group\": \"sequence composition\", \"Cumulative Count\": 4.0}, {\"Year\": 2004, \"Computational Group\": \"artificial intelligence (AI)\", \"Cumulative Count\": 1.0}, {\"Year\": 2004, \"Computational Group\": \"comparative genomics\", \"Cumulative Count\": 4.0}, {\"Year\": 2004, \"Computational Group\": \"hybrid\", \"Cumulative Count\": 1.0}, {\"Year\": 2004, \"Computational Group\": \"sequence composition\", \"Cumulative Count\": 4.0}, {\"Year\": 2005, \"Computational Group\": \"artificial intelligence (AI)\", \"Cumulative Count\": 2.0}, {\"Year\": 2005, \"Computational Group\": \"comparative genomics\", \"Cumulative Count\": 6.0}, {\"Year\": 2005, \"Computational Group\": \"hybrid\", \"Cumulative Count\": 4.0}, {\"Year\": 2005, \"Computational Group\": \"sequence composition\", \"Cumulative Count\": 5.0}, {\"Year\": 2006, \"Computational Group\": \"artificial intelligence (AI)\", \"Cumulative Count\": 2.0}, {\"Year\": 2006, \"Computational Group\": \"comparative genomics\", \"Cumulative Count\": 9.0}, {\"Year\": 2006, \"Computational Group\": \"hybrid\", \"Cumulative Count\": 6.0}, {\"Year\": 2006, \"Computational Group\": \"sequence composition\", \"Cumulative Count\": 6.0}, {\"Year\": 2007, \"Computational Group\": \"artificial intelligence (AI)\", \"Cumulative Count\": 2.0}, {\"Year\": 2007, \"Computational Group\": \"comparative genomics\", \"Cumulative Count\": 11.0}, {\"Year\": 2007, \"Computational Group\": \"hybrid\", \"Cumulative Count\": 7.0}, {\"Year\": 2007, \"Computational Group\": \"sequence composition\", \"Cumulative Count\": 8.0}, {\"Year\": 2008, \"Computational Group\": \"artificial intelligence (AI)\", \"Cumulative Count\": 3.0}, {\"Year\": 2008, \"Computational Group\": \"comparative genomics\", \"Cumulative Count\": 13.0}, {\"Year\": 2008, \"Computational Group\": \"hybrid\", \"Cumulative Count\": 8.0}, {\"Year\": 2008, \"Computational Group\": \"sequence composition\", \"Cumulative Count\": 10.0}, {\"Year\": 2009, \"Computational Group\": \"artificial intelligence (AI)\", \"Cumulative Count\": 3.0}, {\"Year\": 2009, \"Computational Group\": \"comparative genomics\", \"Cumulative Count\": 13.0}, {\"Year\": 2009, \"Computational Group\": \"hybrid\", \"Cumulative Count\": 9.0}, {\"Year\": 2009, \"Computational Group\": \"sequence composition\", \"Cumulative Count\": 11.0}, {\"Year\": 2010, \"Computational Group\": \"artificial intelligence (AI)\", \"Cumulative Count\": 5.0}, {\"Year\": 2010, \"Computational Group\": \"comparative genomics\", \"Cumulative Count\": 14.0}, {\"Year\": 2010, \"Computational Group\": \"hybrid\", \"Cumulative Count\": 9.0}, {\"Year\": 2010, \"Computational Group\": \"sequence composition\", \"Cumulative Count\": 11.0}, {\"Year\": 2011, \"Computational Group\": \"artificial intelligence (AI)\", \"Cumulative Count\": 5.0}, {\"Year\": 2011, \"Computational Group\": \"comparative genomics\", \"Cumulative Count\": 16.0}, {\"Year\": 2011, \"Computational Group\": \"hybrid\", \"Cumulative Count\": 10.0}, {\"Year\": 2011, \"Computational Group\": \"sequence composition\", \"Cumulative Count\": 12.0}, {\"Year\": 2012, \"Computational Group\": \"artificial intelligence (AI)\", \"Cumulative Count\": 7.0}, {\"Year\": 2012, \"Computational Group\": \"comparative genomics\", \"Cumulative Count\": 17.0}, {\"Year\": 2012, \"Computational Group\": \"hybrid\", \"Cumulative Count\": 12.0}, {\"Year\": 2012, \"Computational Group\": \"sequence composition\", \"Cumulative Count\": 13.0}, {\"Year\": 2013, \"Computational Group\": \"artificial intelligence (AI)\", \"Cumulative Count\": 7.0}, {\"Year\": 2013, \"Computational Group\": \"comparative genomics\", \"Cumulative Count\": 18.0}, {\"Year\": 2013, \"Computational Group\": \"hybrid\", \"Cumulative Count\": 13.0}, {\"Year\": 2013, \"Computational Group\": \"sequence composition\", \"Cumulative Count\": 14.0}, {\"Year\": 2014, \"Computational Group\": \"artificial intelligence (AI)\", \"Cumulative Count\": 9.0}, {\"Year\": 2014, \"Computational Group\": \"comparative genomics\", \"Cumulative Count\": 20.0}, {\"Year\": 2014, \"Computational Group\": \"hybrid\", \"Cumulative Count\": 13.0}, {\"Year\": 2014, \"Computational Group\": \"sequence composition\", \"Cumulative Count\": 16.0}, {\"Year\": 2015, \"Computational Group\": \"artificial intelligence (AI)\", \"Cumulative Count\": 10.0}, {\"Year\": 2015, \"Computational Group\": \"comparative genomics\", \"Cumulative Count\": 25.0}, {\"Year\": 2015, \"Computational Group\": \"hybrid\", \"Cumulative Count\": 15.0}, {\"Year\": 2015, \"Computational Group\": \"sequence composition\", \"Cumulative Count\": 16.0}, {\"Year\": 2016, \"Computational Group\": \"artificial intelligence (AI)\", \"Cumulative Count\": 12.0}, {\"Year\": 2016, \"Computational Group\": \"comparative genomics\", \"Cumulative Count\": 30.0}, {\"Year\": 2016, \"Computational Group\": \"hybrid\", \"Cumulative Count\": 15.0}, {\"Year\": 2016, \"Computational Group\": \"sequence composition\", \"Cumulative Count\": 18.0}, {\"Year\": 2017, \"Computational Group\": \"artificial intelligence (AI)\", \"Cumulative Count\": 13.0}, {\"Year\": 2017, \"Computational Group\": \"comparative genomics\", \"Cumulative Count\": 32.0}, {\"Year\": 2017, \"Computational Group\": \"hybrid\", \"Cumulative Count\": 16.0}, {\"Year\": 2017, \"Computational Group\": \"sequence composition\", \"Cumulative Count\": 18.0}, {\"Year\": 2018, \"Computational Group\": \"artificial intelligence (AI)\", \"Cumulative Count\": 17.0}, {\"Year\": 2018, \"Computational Group\": \"comparative genomics\", \"Cumulative Count\": 39.0}, {\"Year\": 2018, \"Computational Group\": \"hybrid\", \"Cumulative Count\": 18.0}, {\"Year\": 2018, \"Computational Group\": \"sequence composition\", \"Cumulative Count\": 18.0}, {\"Year\": 2019, \"Computational Group\": \"artificial intelligence (AI)\", \"Cumulative Count\": 17.0}, {\"Year\": 2019, \"Computational Group\": \"comparative genomics\", \"Cumulative Count\": 44.0}, {\"Year\": 2019, \"Computational Group\": \"hybrid\", \"Cumulative Count\": 19.0}, {\"Year\": 2019, \"Computational Group\": \"sequence composition\", \"Cumulative Count\": 18.0}, {\"Year\": 2020, \"Computational Group\": \"artificial intelligence (AI)\", \"Cumulative Count\": 19.0}, {\"Year\": 2020, \"Computational Group\": \"comparative genomics\", \"Cumulative Count\": 49.0}, {\"Year\": 2020, \"Computational Group\": \"hybrid\", \"Cumulative Count\": 21.0}, {\"Year\": 2020, \"Computational Group\": \"sequence composition\", \"Cumulative Count\": 19.0}, {\"Year\": 2021, \"Computational Group\": \"artificial intelligence (AI)\", \"Cumulative Count\": 24.0}, {\"Year\": 2021, \"Computational Group\": \"comparative genomics\", \"Cumulative Count\": 53.0}, {\"Year\": 2021, \"Computational Group\": \"hybrid\", \"Cumulative Count\": 22.0}, {\"Year\": 2021, \"Computational Group\": \"sequence composition\", \"Cumulative Count\": 19.0}, {\"Year\": 2022, \"Computational Group\": \"artificial intelligence (AI)\", \"Cumulative Count\": 25.0}, {\"Year\": 2022, \"Computational Group\": \"comparative genomics\", \"Cumulative Count\": 53.0}, {\"Year\": 2022, \"Computational Group\": \"hybrid\", \"Cumulative Count\": 27.0}, {\"Year\": 2022, \"Computational Group\": \"sequence composition\", \"Cumulative Count\": 19.0}, {\"Year\": 2023, \"Computational Group\": \"artificial intelligence (AI)\", \"Cumulative Count\": 27.0}, {\"Year\": 2023, \"Computational Group\": \"comparative genomics\", \"Cumulative Count\": 59.0}, {\"Year\": 2023, \"Computational Group\": \"hybrid\", \"Cumulative Count\": 29.0}, {\"Year\": 2023, \"Computational Group\": \"sequence composition\", \"Cumulative Count\": 19.0}]}}, {\"mode\": \"vega-lite\"});\n",
       "</script>"
      ],
      "text/plain": [
       "alt.Chart(...)"
      ]
     },
     "execution_count": 8,
     "metadata": {},
     "output_type": "execute_result"
    }
   ],
   "source": [
    "#color schema of tableau10\n",
    "computational_group_trend_chart = alt.Chart(computational_group_trend_stack).mark_bar(stroke='gray').encode(\n",
    "    x=alt.X('Year:O', axis=alt.Axis(labelAngle=-45)),\n",
    "    y=\"Cumulative Count\",\n",
    "    color=alt.Color('Computational Group', \n",
    "                                        scale=alt.Scale(domain=[\"artificial intelligence (AI)\",\"comparative genomics\",\"hybrid\",\"sequence composition\"],\n",
    "                                                        range=['#000000','#a6cee3','#1f78b4','#b2df8a']),\n",
    "                   legend=alt.Legend(orient='none',\n",
    "                                                                            legendX=80, legendY=420,\n",
    "                                                                            direction='horizontal',\n",
    "                                                                            title='',\n",
    "                                                                            labelPadding=10.0,\n",
    "                                                                            labelOffset=1.0,\n",
    "                                                                            columnPadding=25.0)),\n",
    "    order=alt.Order(\"Computational Group\").sort(\"ascending\")\n",
    ").properties(width=600)\n",
    "computational_group_trend_chart"
   ]
  },
  {
   "cell_type": "code",
   "execution_count": 9,
   "id": "3cf07933",
   "metadata": {},
   "outputs": [],
   "source": [
    "#take the latest year (2023) to show the current state of the computational groups for HGT detection\n",
    "latest_state = computational_group_trend_stack[computational_group_trend_stack['Year']==2023]"
   ]
  },
  {
   "cell_type": "code",
   "execution_count": 10,
   "id": "359ccb72",
   "metadata": {},
   "outputs": [
    {
     "name": "stderr",
     "output_type": "stream",
     "text": [
      "/var/folders/wz/b54c30xd2nvfn7l1_bqy57yr0000gn/T/ipykernel_2078/1965478131.py:3: SettingWithCopyWarning: \n",
      "A value is trying to be set on a copy of a slice from a DataFrame.\n",
      "Try using .loc[row_indexer,col_indexer] = value instead\n",
      "\n",
      "See the caveats in the documentation: https://pandas.pydata.org/pandas-docs/stable/user_guide/indexing.html#returning-a-view-versus-a-copy\n",
      "  latest_state.loc[:,'proportion'] = latest_state['Cumulative Count']/total_computational_approaches\n"
     ]
    }
   ],
   "source": [
    "#calculate the proportion of each computational group in the latest year\n",
    "total_computational_approaches = latest_state.loc[:,'Cumulative Count'].values.sum()\n",
    "latest_state.loc[:,'proportion'] = latest_state['Cumulative Count']/total_computational_approaches"
   ]
  },
  {
   "cell_type": "code",
   "execution_count": 11,
   "id": "19882ef7",
   "metadata": {},
   "outputs": [
    {
     "data": {
      "text/html": [
       "<div>\n",
       "<style scoped>\n",
       "    .dataframe tbody tr th:only-of-type {\n",
       "        vertical-align: middle;\n",
       "    }\n",
       "\n",
       "    .dataframe tbody tr th {\n",
       "        vertical-align: top;\n",
       "    }\n",
       "\n",
       "    .dataframe thead th {\n",
       "        text-align: right;\n",
       "    }\n",
       "</style>\n",
       "<table border=\"1\" class=\"dataframe\">\n",
       "  <thead>\n",
       "    <tr style=\"text-align: right;\">\n",
       "      <th></th>\n",
       "      <th>Year</th>\n",
       "      <th>Computational Group</th>\n",
       "      <th>Cumulative Count</th>\n",
       "      <th>proportion</th>\n",
       "    </tr>\n",
       "  </thead>\n",
       "  <tbody>\n",
       "    <tr>\n",
       "      <th>92</th>\n",
       "      <td>2023</td>\n",
       "      <td>artificial intelligence (AI)</td>\n",
       "      <td>27.0</td>\n",
       "      <td>0.201493</td>\n",
       "    </tr>\n",
       "    <tr>\n",
       "      <th>93</th>\n",
       "      <td>2023</td>\n",
       "      <td>comparative genomics</td>\n",
       "      <td>59.0</td>\n",
       "      <td>0.440299</td>\n",
       "    </tr>\n",
       "    <tr>\n",
       "      <th>94</th>\n",
       "      <td>2023</td>\n",
       "      <td>hybrid</td>\n",
       "      <td>29.0</td>\n",
       "      <td>0.216418</td>\n",
       "    </tr>\n",
       "    <tr>\n",
       "      <th>95</th>\n",
       "      <td>2023</td>\n",
       "      <td>sequence composition</td>\n",
       "      <td>19.0</td>\n",
       "      <td>0.141791</td>\n",
       "    </tr>\n",
       "  </tbody>\n",
       "</table>\n",
       "</div>"
      ],
      "text/plain": [
       "    Year           Computational Group  Cumulative Count  proportion\n",
       "92  2023  artificial intelligence (AI)              27.0    0.201493\n",
       "93  2023          comparative genomics              59.0    0.440299\n",
       "94  2023                        hybrid              29.0    0.216418\n",
       "95  2023          sequence composition              19.0    0.141791"
      ]
     },
     "execution_count": 11,
     "metadata": {},
     "output_type": "execute_result"
    }
   ],
   "source": [
    "latest_state"
   ]
  },
  {
   "cell_type": "code",
   "execution_count": 12,
   "id": "7bc2b1e8",
   "metadata": {},
   "outputs": [],
   "source": [
    "#reference: https://github.com/AAnzel/TVSDS/blob/master/Source/UI.py\n",
    "def calc_midpoints(y):\n",
    "    x = []\n",
    "    for i in range(len(y)):\n",
    "        prev = y[: i]\n",
    "        x.append(y[i]/2 + sum(prev))\n",
    "\n",
    "    return x"
   ]
  },
  {
   "cell_type": "code",
   "execution_count": 13,
   "id": "c6382e77",
   "metadata": {},
   "outputs": [
    {
     "name": "stderr",
     "output_type": "stream",
     "text": [
      "/var/folders/wz/b54c30xd2nvfn7l1_bqy57yr0000gn/T/ipykernel_2078/2678463541.py:1: SettingWithCopyWarning: \n",
      "A value is trying to be set on a copy of a slice from a DataFrame.\n",
      "Try using .loc[row_indexer,col_indexer] = value instead\n",
      "\n",
      "See the caveats in the documentation: https://pandas.pydata.org/pandas-docs/stable/user_guide/indexing.html#returning-a-view-versus-a-copy\n",
      "  latest_state.loc[:,'text_pos'] = calc_midpoints(latest_state.loc[:,'proportion'].values)\n"
     ]
    }
   ],
   "source": [
    "latest_state.loc[:,'text_pos'] = calc_midpoints(latest_state.loc[:,'proportion'].values)"
   ]
  },
  {
   "cell_type": "code",
   "execution_count": 14,
   "id": "89be8e78",
   "metadata": {},
   "outputs": [],
   "source": [
    "#split the label color into white and black color for better visibility\n",
    "white_font = latest_state[latest_state['Computational Group'].str.contains(\"AI|hybrid\")]\n",
    "black_font = latest_state[latest_state['Computational Group'].str.contains(\"sequence|comparative\")]"
   ]
  },
  {
   "cell_type": "code",
   "execution_count": 15,
   "id": "29a4b1b6",
   "metadata": {},
   "outputs": [],
   "source": [
    "computational_trend_proportion_bar = alt.Chart(latest_state).mark_bar(size=20, stroke='gray').encode(\n",
    "    x=alt.X('sum(proportion)',axis=alt.Axis(labels=False, tickSize=0)).title('Proportion').stack('normalize'),\n",
    "    color=alt.Color('Computational Group', \n",
    "                    scale=alt.Scale(domain=[\"artificial intelligence (AI)\",\"comparative genomics\",\"hybrid\",\"sequence composition\"],\n",
    "                                    range=['#000000','#a6cee3','#1f78b4','#b2df8a']))\n",
    ")\n",
    "\n",
    "white_text = alt.Chart(white_font).mark_text(size=12, color='#FAF9F6').encode(\n",
    "    x=alt.X('text_pos:Q'),\n",
    "    detail='Computational Group',\n",
    "    text=alt.Text('proportion:Q', format=\".2%\")\n",
    ")\n",
    "\n",
    "black_text = alt.Chart(black_font).mark_text(size=12, color='#363636').encode(\n",
    "    x=alt.X('text_pos:Q'),\n",
    "    detail='Computational Group',\n",
    "    text=alt.Text('proportion:Q', format=\".2%\")\n",
    ")"
   ]
  },
  {
   "cell_type": "code",
   "execution_count": 16,
   "id": "598abce0",
   "metadata": {},
   "outputs": [
    {
     "name": "stderr",
     "output_type": "stream",
     "text": [
      "/Users/miko/anaconda3/envs/viz/lib/python3.11/site-packages/altair/utils/core.py:410: FutureWarning: the convert_dtype parameter is deprecated and will be removed in a future version.  Do ``ser.astype(object).apply()`` instead if you want ``convert_dtype=False``.\n",
      "  col = df[col_name].apply(to_list_if_array, convert_dtype=False)\n",
      "/Users/miko/anaconda3/envs/viz/lib/python3.11/site-packages/altair/utils/core.py:410: FutureWarning: the convert_dtype parameter is deprecated and will be removed in a future version.  Do ``ser.astype(object).apply()`` instead if you want ``convert_dtype=False``.\n",
      "  col = df[col_name].apply(to_list_if_array, convert_dtype=False)\n",
      "/Users/miko/anaconda3/envs/viz/lib/python3.11/site-packages/altair/utils/core.py:410: FutureWarning: the convert_dtype parameter is deprecated and will be removed in a future version.  Do ``ser.astype(object).apply()`` instead if you want ``convert_dtype=False``.\n",
      "  col = df[col_name].apply(to_list_if_array, convert_dtype=False)\n"
     ]
    },
    {
     "data": {
      "text/html": [
       "\n",
       "<style>\n",
       "  #altair-viz-b63bce196afc44bc9020246b6f3f46cc.vega-embed {\n",
       "    width: 100%;\n",
       "    display: flex;\n",
       "  }\n",
       "\n",
       "  #altair-viz-b63bce196afc44bc9020246b6f3f46cc.vega-embed details,\n",
       "  #altair-viz-b63bce196afc44bc9020246b6f3f46cc.vega-embed details summary {\n",
       "    position: relative;\n",
       "  }\n",
       "</style>\n",
       "<div id=\"altair-viz-b63bce196afc44bc9020246b6f3f46cc\"></div>\n",
       "<script type=\"text/javascript\">\n",
       "  var VEGA_DEBUG = (typeof VEGA_DEBUG == \"undefined\") ? {} : VEGA_DEBUG;\n",
       "  (function(spec, embedOpt){\n",
       "    let outputDiv = document.currentScript.previousElementSibling;\n",
       "    if (outputDiv.id !== \"altair-viz-b63bce196afc44bc9020246b6f3f46cc\") {\n",
       "      outputDiv = document.getElementById(\"altair-viz-b63bce196afc44bc9020246b6f3f46cc\");\n",
       "    }\n",
       "    const paths = {\n",
       "      \"vega\": \"https://cdn.jsdelivr.net/npm/vega@5?noext\",\n",
       "      \"vega-lib\": \"https://cdn.jsdelivr.net/npm/vega-lib?noext\",\n",
       "      \"vega-lite\": \"https://cdn.jsdelivr.net/npm/vega-lite@5.14.1?noext\",\n",
       "      \"vega-embed\": \"https://cdn.jsdelivr.net/npm/vega-embed@6?noext\",\n",
       "    };\n",
       "\n",
       "    function maybeLoadScript(lib, version) {\n",
       "      var key = `${lib.replace(\"-\", \"\")}_version`;\n",
       "      return (VEGA_DEBUG[key] == version) ?\n",
       "        Promise.resolve(paths[lib]) :\n",
       "        new Promise(function(resolve, reject) {\n",
       "          var s = document.createElement('script');\n",
       "          document.getElementsByTagName(\"head\")[0].appendChild(s);\n",
       "          s.async = true;\n",
       "          s.onload = () => {\n",
       "            VEGA_DEBUG[key] = version;\n",
       "            return resolve(paths[lib]);\n",
       "          };\n",
       "          s.onerror = () => reject(`Error loading script: ${paths[lib]}`);\n",
       "          s.src = paths[lib];\n",
       "        });\n",
       "    }\n",
       "\n",
       "    function showError(err) {\n",
       "      outputDiv.innerHTML = `<div class=\"error\" style=\"color:red;\">${err}</div>`;\n",
       "      throw err;\n",
       "    }\n",
       "\n",
       "    function displayChart(vegaEmbed) {\n",
       "      vegaEmbed(outputDiv, spec, embedOpt)\n",
       "        .catch(err => showError(`Javascript Error: ${err.message}<br>This usually means there's a typo in your chart specification. See the javascript console for the full traceback.`));\n",
       "    }\n",
       "\n",
       "    if(typeof define === \"function\" && define.amd) {\n",
       "      requirejs.config({paths});\n",
       "      require([\"vega-embed\"], displayChart, err => showError(`Error loading script: ${err.message}`));\n",
       "    } else {\n",
       "      maybeLoadScript(\"vega\", \"5\")\n",
       "        .then(() => maybeLoadScript(\"vega-lite\", \"5.14.1\"))\n",
       "        .then(() => maybeLoadScript(\"vega-embed\", \"6\"))\n",
       "        .catch(showError)\n",
       "        .then(() => displayChart(vegaEmbed));\n",
       "    }\n",
       "  })({\"config\": {\"view\": {\"continuousWidth\": 300, \"continuousHeight\": 300}}, \"layer\": [{\"data\": {\"name\": \"data-a40b1d8b978f90a023a678050611d160\"}, \"mark\": {\"type\": \"bar\", \"size\": 20, \"stroke\": \"gray\"}, \"encoding\": {\"color\": {\"field\": \"Computational Group\", \"scale\": {\"domain\": [\"artificial intelligence (AI)\", \"comparative genomics\", \"hybrid\", \"sequence composition\"], \"range\": [\"#000000\", \"#a6cee3\", \"#1f78b4\", \"#b2df8a\"]}, \"type\": \"nominal\"}, \"x\": {\"aggregate\": \"sum\", \"axis\": {\"labels\": false, \"tickSize\": 0}, \"field\": \"proportion\", \"stack\": \"normalize\", \"title\": \"Proportion\", \"type\": \"quantitative\"}}}, {\"data\": {\"name\": \"data-8d2620b323a1a6b19c4bf74e136b24e0\"}, \"mark\": {\"type\": \"text\", \"color\": \"#FAF9F6\", \"size\": 12}, \"encoding\": {\"detail\": {\"field\": \"Computational Group\", \"type\": \"nominal\"}, \"text\": {\"field\": \"proportion\", \"format\": \".2%\", \"type\": \"quantitative\"}, \"x\": {\"field\": \"text_pos\", \"type\": \"quantitative\"}}}, {\"data\": {\"name\": \"data-422c6de813f27cd677a6fd984ea9214b\"}, \"mark\": {\"type\": \"text\", \"color\": \"#363636\", \"size\": 12}, \"encoding\": {\"detail\": {\"field\": \"Computational Group\", \"type\": \"nominal\"}, \"text\": {\"field\": \"proportion\", \"format\": \".2%\", \"type\": \"quantitative\"}, \"x\": {\"field\": \"text_pos\", \"type\": \"quantitative\"}}}], \"width\": 600, \"$schema\": \"https://vega.github.io/schema/vega-lite/v5.14.1.json\", \"datasets\": {\"data-a40b1d8b978f90a023a678050611d160\": [{\"Year\": 2023, \"Computational Group\": \"artificial intelligence (AI)\", \"Cumulative Count\": 27.0, \"proportion\": 0.20149253731343283, \"text_pos\": 0.10074626865671642}, {\"Year\": 2023, \"Computational Group\": \"comparative genomics\", \"Cumulative Count\": 59.0, \"proportion\": 0.44029850746268656, \"text_pos\": 0.4216417910447761}, {\"Year\": 2023, \"Computational Group\": \"hybrid\", \"Cumulative Count\": 29.0, \"proportion\": 0.21641791044776118, \"text_pos\": 0.75}, {\"Year\": 2023, \"Computational Group\": \"sequence composition\", \"Cumulative Count\": 19.0, \"proportion\": 0.1417910447761194, \"text_pos\": 0.9291044776119403}], \"data-8d2620b323a1a6b19c4bf74e136b24e0\": [{\"Year\": 2023, \"Computational Group\": \"artificial intelligence (AI)\", \"Cumulative Count\": 27.0, \"proportion\": 0.20149253731343283, \"text_pos\": 0.10074626865671642}, {\"Year\": 2023, \"Computational Group\": \"hybrid\", \"Cumulative Count\": 29.0, \"proportion\": 0.21641791044776118, \"text_pos\": 0.75}], \"data-422c6de813f27cd677a6fd984ea9214b\": [{\"Year\": 2023, \"Computational Group\": \"comparative genomics\", \"Cumulative Count\": 59.0, \"proportion\": 0.44029850746268656, \"text_pos\": 0.4216417910447761}, {\"Year\": 2023, \"Computational Group\": \"sequence composition\", \"Cumulative Count\": 19.0, \"proportion\": 0.1417910447761194, \"text_pos\": 0.9291044776119403}]}}, {\"mode\": \"vega-lite\"});\n",
       "</script>"
      ],
      "text/plain": [
       "alt.LayerChart(...)"
      ]
     },
     "execution_count": 16,
     "metadata": {},
     "output_type": "execute_result"
    }
   ],
   "source": [
    "computational_trend_proportion_bar_w_text = (computational_trend_proportion_bar+white_text+black_text).properties(width=600)\n",
    "computational_trend_proportion_bar_w_text"
   ]
  },
  {
   "cell_type": "code",
   "execution_count": 18,
   "id": "19dfba60",
   "metadata": {},
   "outputs": [
    {
     "name": "stderr",
     "output_type": "stream",
     "text": [
      "/Users/miko/anaconda3/envs/viz/lib/python3.11/site-packages/altair/utils/core.py:410: FutureWarning: the convert_dtype parameter is deprecated and will be removed in a future version.  Do ``ser.astype(object).apply()`` instead if you want ``convert_dtype=False``.\n",
      "  col = df[col_name].apply(to_list_if_array, convert_dtype=False)\n",
      "/Users/miko/anaconda3/envs/viz/lib/python3.11/site-packages/altair/utils/core.py:410: FutureWarning: the convert_dtype parameter is deprecated and will be removed in a future version.  Do ``ser.astype(object).apply()`` instead if you want ``convert_dtype=False``.\n",
      "  col = df[col_name].apply(to_list_if_array, convert_dtype=False)\n",
      "/Users/miko/anaconda3/envs/viz/lib/python3.11/site-packages/altair/utils/core.py:410: FutureWarning: the convert_dtype parameter is deprecated and will be removed in a future version.  Do ``ser.astype(object).apply()`` instead if you want ``convert_dtype=False``.\n",
      "  col = df[col_name].apply(to_list_if_array, convert_dtype=False)\n",
      "/Users/miko/anaconda3/envs/viz/lib/python3.11/site-packages/altair/utils/core.py:410: FutureWarning: the convert_dtype parameter is deprecated and will be removed in a future version.  Do ``ser.astype(object).apply()`` instead if you want ``convert_dtype=False``.\n",
      "  col = df[col_name].apply(to_list_if_array, convert_dtype=False)\n"
     ]
    },
    {
     "data": {
      "text/html": [
       "\n",
       "<style>\n",
       "  #altair-viz-9b07c02b570d4dd8920a557c34e2de1d.vega-embed {\n",
       "    width: 100%;\n",
       "    display: flex;\n",
       "  }\n",
       "\n",
       "  #altair-viz-9b07c02b570d4dd8920a557c34e2de1d.vega-embed details,\n",
       "  #altair-viz-9b07c02b570d4dd8920a557c34e2de1d.vega-embed details summary {\n",
       "    position: relative;\n",
       "  }\n",
       "</style>\n",
       "<div id=\"altair-viz-9b07c02b570d4dd8920a557c34e2de1d\"></div>\n",
       "<script type=\"text/javascript\">\n",
       "  var VEGA_DEBUG = (typeof VEGA_DEBUG == \"undefined\") ? {} : VEGA_DEBUG;\n",
       "  (function(spec, embedOpt){\n",
       "    let outputDiv = document.currentScript.previousElementSibling;\n",
       "    if (outputDiv.id !== \"altair-viz-9b07c02b570d4dd8920a557c34e2de1d\") {\n",
       "      outputDiv = document.getElementById(\"altair-viz-9b07c02b570d4dd8920a557c34e2de1d\");\n",
       "    }\n",
       "    const paths = {\n",
       "      \"vega\": \"https://cdn.jsdelivr.net/npm/vega@5?noext\",\n",
       "      \"vega-lib\": \"https://cdn.jsdelivr.net/npm/vega-lib?noext\",\n",
       "      \"vega-lite\": \"https://cdn.jsdelivr.net/npm/vega-lite@5.14.1?noext\",\n",
       "      \"vega-embed\": \"https://cdn.jsdelivr.net/npm/vega-embed@6?noext\",\n",
       "    };\n",
       "\n",
       "    function maybeLoadScript(lib, version) {\n",
       "      var key = `${lib.replace(\"-\", \"\")}_version`;\n",
       "      return (VEGA_DEBUG[key] == version) ?\n",
       "        Promise.resolve(paths[lib]) :\n",
       "        new Promise(function(resolve, reject) {\n",
       "          var s = document.createElement('script');\n",
       "          document.getElementsByTagName(\"head\")[0].appendChild(s);\n",
       "          s.async = true;\n",
       "          s.onload = () => {\n",
       "            VEGA_DEBUG[key] = version;\n",
       "            return resolve(paths[lib]);\n",
       "          };\n",
       "          s.onerror = () => reject(`Error loading script: ${paths[lib]}`);\n",
       "          s.src = paths[lib];\n",
       "        });\n",
       "    }\n",
       "\n",
       "    function showError(err) {\n",
       "      outputDiv.innerHTML = `<div class=\"error\" style=\"color:red;\">${err}</div>`;\n",
       "      throw err;\n",
       "    }\n",
       "\n",
       "    function displayChart(vegaEmbed) {\n",
       "      vegaEmbed(outputDiv, spec, embedOpt)\n",
       "        .catch(err => showError(`Javascript Error: ${err.message}<br>This usually means there's a typo in your chart specification. See the javascript console for the full traceback.`));\n",
       "    }\n",
       "\n",
       "    if(typeof define === \"function\" && define.amd) {\n",
       "      requirejs.config({paths});\n",
       "      require([\"vega-embed\"], displayChart, err => showError(`Error loading script: ${err.message}`));\n",
       "    } else {\n",
       "      maybeLoadScript(\"vega\", \"5\")\n",
       "        .then(() => maybeLoadScript(\"vega-lite\", \"5.14.1\"))\n",
       "        .then(() => maybeLoadScript(\"vega-embed\", \"6\"))\n",
       "        .catch(showError)\n",
       "        .then(() => displayChart(vegaEmbed));\n",
       "    }\n",
       "  })({\"config\": {\"view\": {\"continuousWidth\": 300, \"continuousHeight\": 300}}, \"vconcat\": [{\"data\": {\"name\": \"data-88e103269a7461a5fb4b995259868373\"}, \"mark\": {\"type\": \"bar\", \"stroke\": \"gray\"}, \"encoding\": {\"color\": {\"field\": \"Computational Group\", \"legend\": {\"columnPadding\": 25.0, \"direction\": \"horizontal\", \"labelOffset\": 1.0, \"labelPadding\": 10.0, \"legendX\": 80, \"legendY\": 420, \"orient\": \"none\", \"title\": \"\"}, \"scale\": {\"domain\": [\"artificial intelligence (AI)\", \"comparative genomics\", \"hybrid\", \"sequence composition\"], \"range\": [\"#000000\", \"#a6cee3\", \"#1f78b4\", \"#b2df8a\"]}, \"type\": \"nominal\"}, \"order\": {\"field\": \"Computational Group\", \"sort\": \"ascending\", \"type\": \"nominal\"}, \"x\": {\"axis\": {\"labelAngle\": -45}, \"field\": \"Year\", \"type\": \"ordinal\"}, \"y\": {\"field\": \"Cumulative Count\", \"type\": \"quantitative\"}}, \"width\": 600}, {\"layer\": [{\"data\": {\"name\": \"data-a40b1d8b978f90a023a678050611d160\"}, \"mark\": {\"type\": \"bar\", \"size\": 20, \"stroke\": \"gray\"}, \"encoding\": {\"color\": {\"field\": \"Computational Group\", \"scale\": {\"domain\": [\"artificial intelligence (AI)\", \"comparative genomics\", \"hybrid\", \"sequence composition\"], \"range\": [\"#000000\", \"#a6cee3\", \"#1f78b4\", \"#b2df8a\"]}, \"type\": \"nominal\"}, \"x\": {\"aggregate\": \"sum\", \"axis\": {\"labels\": false, \"tickSize\": 0}, \"field\": \"proportion\", \"stack\": \"normalize\", \"title\": \"Proportion\", \"type\": \"quantitative\"}}}, {\"data\": {\"name\": \"data-8d2620b323a1a6b19c4bf74e136b24e0\"}, \"mark\": {\"type\": \"text\", \"color\": \"#FAF9F6\", \"size\": 12}, \"encoding\": {\"detail\": {\"field\": \"Computational Group\", \"type\": \"nominal\"}, \"text\": {\"field\": \"proportion\", \"format\": \".2%\", \"type\": \"quantitative\"}, \"x\": {\"field\": \"text_pos\", \"type\": \"quantitative\"}}}, {\"data\": {\"name\": \"data-422c6de813f27cd677a6fd984ea9214b\"}, \"mark\": {\"type\": \"text\", \"color\": \"#363636\", \"size\": 12}, \"encoding\": {\"detail\": {\"field\": \"Computational Group\", \"type\": \"nominal\"}, \"text\": {\"field\": \"proportion\", \"format\": \".2%\", \"type\": \"quantitative\"}, \"x\": {\"field\": \"text_pos\", \"type\": \"quantitative\"}}}], \"width\": 600}], \"$schema\": \"https://vega.github.io/schema/vega-lite/v5.14.1.json\", \"datasets\": {\"data-88e103269a7461a5fb4b995259868373\": [{\"Year\": 2000, \"Computational Group\": \"artificial intelligence (AI)\", \"Cumulative Count\": 0.0}, {\"Year\": 2000, \"Computational Group\": \"comparative genomics\", \"Cumulative Count\": 0.0}, {\"Year\": 2000, \"Computational Group\": \"hybrid\", \"Cumulative Count\": 0.0}, {\"Year\": 2000, \"Computational Group\": \"sequence composition\", \"Cumulative Count\": 1.0}, {\"Year\": 2001, \"Computational Group\": \"artificial intelligence (AI)\", \"Cumulative Count\": 1.0}, {\"Year\": 2001, \"Computational Group\": \"comparative genomics\", \"Cumulative Count\": 2.0}, {\"Year\": 2001, \"Computational Group\": \"hybrid\", \"Cumulative Count\": 0.0}, {\"Year\": 2001, \"Computational Group\": \"sequence composition\", \"Cumulative Count\": 1.0}, {\"Year\": 2002, \"Computational Group\": \"artificial intelligence (AI)\", \"Cumulative Count\": 1.0}, {\"Year\": 2002, \"Computational Group\": \"comparative genomics\", \"Cumulative Count\": 2.0}, {\"Year\": 2002, \"Computational Group\": \"hybrid\", \"Cumulative Count\": 0.0}, {\"Year\": 2002, \"Computational Group\": \"sequence composition\", \"Cumulative Count\": 2.0}, {\"Year\": 2003, \"Computational Group\": \"artificial intelligence (AI)\", \"Cumulative Count\": 1.0}, {\"Year\": 2003, \"Computational Group\": \"comparative genomics\", \"Cumulative Count\": 3.0}, {\"Year\": 2003, \"Computational Group\": \"hybrid\", \"Cumulative Count\": 0.0}, {\"Year\": 2003, \"Computational Group\": \"sequence composition\", \"Cumulative Count\": 4.0}, {\"Year\": 2004, \"Computational Group\": \"artificial intelligence (AI)\", \"Cumulative Count\": 1.0}, {\"Year\": 2004, \"Computational Group\": \"comparative genomics\", \"Cumulative Count\": 4.0}, {\"Year\": 2004, \"Computational Group\": \"hybrid\", \"Cumulative Count\": 1.0}, {\"Year\": 2004, \"Computational Group\": \"sequence composition\", \"Cumulative Count\": 4.0}, {\"Year\": 2005, \"Computational Group\": \"artificial intelligence (AI)\", \"Cumulative Count\": 2.0}, {\"Year\": 2005, \"Computational Group\": \"comparative genomics\", \"Cumulative Count\": 6.0}, {\"Year\": 2005, \"Computational Group\": \"hybrid\", \"Cumulative Count\": 4.0}, {\"Year\": 2005, \"Computational Group\": \"sequence composition\", \"Cumulative Count\": 5.0}, {\"Year\": 2006, \"Computational Group\": \"artificial intelligence (AI)\", \"Cumulative Count\": 2.0}, {\"Year\": 2006, \"Computational Group\": \"comparative genomics\", \"Cumulative Count\": 9.0}, {\"Year\": 2006, \"Computational Group\": \"hybrid\", \"Cumulative Count\": 6.0}, {\"Year\": 2006, \"Computational Group\": \"sequence composition\", \"Cumulative Count\": 6.0}, {\"Year\": 2007, \"Computational Group\": \"artificial intelligence (AI)\", \"Cumulative Count\": 2.0}, {\"Year\": 2007, \"Computational Group\": \"comparative genomics\", \"Cumulative Count\": 11.0}, {\"Year\": 2007, \"Computational Group\": \"hybrid\", \"Cumulative Count\": 7.0}, {\"Year\": 2007, \"Computational Group\": \"sequence composition\", \"Cumulative Count\": 8.0}, {\"Year\": 2008, \"Computational Group\": \"artificial intelligence (AI)\", \"Cumulative Count\": 3.0}, {\"Year\": 2008, \"Computational Group\": \"comparative genomics\", \"Cumulative Count\": 13.0}, {\"Year\": 2008, \"Computational Group\": \"hybrid\", \"Cumulative Count\": 8.0}, {\"Year\": 2008, \"Computational Group\": \"sequence composition\", \"Cumulative Count\": 10.0}, {\"Year\": 2009, \"Computational Group\": \"artificial intelligence (AI)\", \"Cumulative Count\": 3.0}, {\"Year\": 2009, \"Computational Group\": \"comparative genomics\", \"Cumulative Count\": 13.0}, {\"Year\": 2009, \"Computational Group\": \"hybrid\", \"Cumulative Count\": 9.0}, {\"Year\": 2009, \"Computational Group\": \"sequence composition\", \"Cumulative Count\": 11.0}, {\"Year\": 2010, \"Computational Group\": \"artificial intelligence (AI)\", \"Cumulative Count\": 5.0}, {\"Year\": 2010, \"Computational Group\": \"comparative genomics\", \"Cumulative Count\": 14.0}, {\"Year\": 2010, \"Computational Group\": \"hybrid\", \"Cumulative Count\": 9.0}, {\"Year\": 2010, \"Computational Group\": \"sequence composition\", \"Cumulative Count\": 11.0}, {\"Year\": 2011, \"Computational Group\": \"artificial intelligence (AI)\", \"Cumulative Count\": 5.0}, {\"Year\": 2011, \"Computational Group\": \"comparative genomics\", \"Cumulative Count\": 16.0}, {\"Year\": 2011, \"Computational Group\": \"hybrid\", \"Cumulative Count\": 10.0}, {\"Year\": 2011, \"Computational Group\": \"sequence composition\", \"Cumulative Count\": 12.0}, {\"Year\": 2012, \"Computational Group\": \"artificial intelligence (AI)\", \"Cumulative Count\": 7.0}, {\"Year\": 2012, \"Computational Group\": \"comparative genomics\", \"Cumulative Count\": 17.0}, {\"Year\": 2012, \"Computational Group\": \"hybrid\", \"Cumulative Count\": 12.0}, {\"Year\": 2012, \"Computational Group\": \"sequence composition\", \"Cumulative Count\": 13.0}, {\"Year\": 2013, \"Computational Group\": \"artificial intelligence (AI)\", \"Cumulative Count\": 7.0}, {\"Year\": 2013, \"Computational Group\": \"comparative genomics\", \"Cumulative Count\": 18.0}, {\"Year\": 2013, \"Computational Group\": \"hybrid\", \"Cumulative Count\": 13.0}, {\"Year\": 2013, \"Computational Group\": \"sequence composition\", \"Cumulative Count\": 14.0}, {\"Year\": 2014, \"Computational Group\": \"artificial intelligence (AI)\", \"Cumulative Count\": 9.0}, {\"Year\": 2014, \"Computational Group\": \"comparative genomics\", \"Cumulative Count\": 20.0}, {\"Year\": 2014, \"Computational Group\": \"hybrid\", \"Cumulative Count\": 13.0}, {\"Year\": 2014, \"Computational Group\": \"sequence composition\", \"Cumulative Count\": 16.0}, {\"Year\": 2015, \"Computational Group\": \"artificial intelligence (AI)\", \"Cumulative Count\": 10.0}, {\"Year\": 2015, \"Computational Group\": \"comparative genomics\", \"Cumulative Count\": 25.0}, {\"Year\": 2015, \"Computational Group\": \"hybrid\", \"Cumulative Count\": 15.0}, {\"Year\": 2015, \"Computational Group\": \"sequence composition\", \"Cumulative Count\": 16.0}, {\"Year\": 2016, \"Computational Group\": \"artificial intelligence (AI)\", \"Cumulative Count\": 12.0}, {\"Year\": 2016, \"Computational Group\": \"comparative genomics\", \"Cumulative Count\": 30.0}, {\"Year\": 2016, \"Computational Group\": \"hybrid\", \"Cumulative Count\": 15.0}, {\"Year\": 2016, \"Computational Group\": \"sequence composition\", \"Cumulative Count\": 18.0}, {\"Year\": 2017, \"Computational Group\": \"artificial intelligence (AI)\", \"Cumulative Count\": 13.0}, {\"Year\": 2017, \"Computational Group\": \"comparative genomics\", \"Cumulative Count\": 32.0}, {\"Year\": 2017, \"Computational Group\": \"hybrid\", \"Cumulative Count\": 16.0}, {\"Year\": 2017, \"Computational Group\": \"sequence composition\", \"Cumulative Count\": 18.0}, {\"Year\": 2018, \"Computational Group\": \"artificial intelligence (AI)\", \"Cumulative Count\": 17.0}, {\"Year\": 2018, \"Computational Group\": \"comparative genomics\", \"Cumulative Count\": 39.0}, {\"Year\": 2018, \"Computational Group\": \"hybrid\", \"Cumulative Count\": 18.0}, {\"Year\": 2018, \"Computational Group\": \"sequence composition\", \"Cumulative Count\": 18.0}, {\"Year\": 2019, \"Computational Group\": \"artificial intelligence (AI)\", \"Cumulative Count\": 17.0}, {\"Year\": 2019, \"Computational Group\": \"comparative genomics\", \"Cumulative Count\": 44.0}, {\"Year\": 2019, \"Computational Group\": \"hybrid\", \"Cumulative Count\": 19.0}, {\"Year\": 2019, \"Computational Group\": \"sequence composition\", \"Cumulative Count\": 18.0}, {\"Year\": 2020, \"Computational Group\": \"artificial intelligence (AI)\", \"Cumulative Count\": 19.0}, {\"Year\": 2020, \"Computational Group\": \"comparative genomics\", \"Cumulative Count\": 49.0}, {\"Year\": 2020, \"Computational Group\": \"hybrid\", \"Cumulative Count\": 21.0}, {\"Year\": 2020, \"Computational Group\": \"sequence composition\", \"Cumulative Count\": 19.0}, {\"Year\": 2021, \"Computational Group\": \"artificial intelligence (AI)\", \"Cumulative Count\": 24.0}, {\"Year\": 2021, \"Computational Group\": \"comparative genomics\", \"Cumulative Count\": 53.0}, {\"Year\": 2021, \"Computational Group\": \"hybrid\", \"Cumulative Count\": 22.0}, {\"Year\": 2021, \"Computational Group\": \"sequence composition\", \"Cumulative Count\": 19.0}, {\"Year\": 2022, \"Computational Group\": \"artificial intelligence (AI)\", \"Cumulative Count\": 25.0}, {\"Year\": 2022, \"Computational Group\": \"comparative genomics\", \"Cumulative Count\": 53.0}, {\"Year\": 2022, \"Computational Group\": \"hybrid\", \"Cumulative Count\": 27.0}, {\"Year\": 2022, \"Computational Group\": \"sequence composition\", \"Cumulative Count\": 19.0}, {\"Year\": 2023, \"Computational Group\": \"artificial intelligence (AI)\", \"Cumulative Count\": 27.0}, {\"Year\": 2023, \"Computational Group\": \"comparative genomics\", \"Cumulative Count\": 59.0}, {\"Year\": 2023, \"Computational Group\": \"hybrid\", \"Cumulative Count\": 29.0}, {\"Year\": 2023, \"Computational Group\": \"sequence composition\", \"Cumulative Count\": 19.0}], \"data-a40b1d8b978f90a023a678050611d160\": [{\"Year\": 2023, \"Computational Group\": \"artificial intelligence (AI)\", \"Cumulative Count\": 27.0, \"proportion\": 0.20149253731343283, \"text_pos\": 0.10074626865671642}, {\"Year\": 2023, \"Computational Group\": \"comparative genomics\", \"Cumulative Count\": 59.0, \"proportion\": 0.44029850746268656, \"text_pos\": 0.4216417910447761}, {\"Year\": 2023, \"Computational Group\": \"hybrid\", \"Cumulative Count\": 29.0, \"proportion\": 0.21641791044776118, \"text_pos\": 0.75}, {\"Year\": 2023, \"Computational Group\": \"sequence composition\", \"Cumulative Count\": 19.0, \"proportion\": 0.1417910447761194, \"text_pos\": 0.9291044776119403}], \"data-8d2620b323a1a6b19c4bf74e136b24e0\": [{\"Year\": 2023, \"Computational Group\": \"artificial intelligence (AI)\", \"Cumulative Count\": 27.0, \"proportion\": 0.20149253731343283, \"text_pos\": 0.10074626865671642}, {\"Year\": 2023, \"Computational Group\": \"hybrid\", \"Cumulative Count\": 29.0, \"proportion\": 0.21641791044776118, \"text_pos\": 0.75}], \"data-422c6de813f27cd677a6fd984ea9214b\": [{\"Year\": 2023, \"Computational Group\": \"comparative genomics\", \"Cumulative Count\": 59.0, \"proportion\": 0.44029850746268656, \"text_pos\": 0.4216417910447761}, {\"Year\": 2023, \"Computational Group\": \"sequence composition\", \"Cumulative Count\": 19.0, \"proportion\": 0.1417910447761194, \"text_pos\": 0.9291044776119403}]}}, {\"mode\": \"vega-lite\"});\n",
       "</script>"
      ],
      "text/plain": [
       "alt.VConcatChart(...)"
      ]
     },
     "execution_count": 18,
     "metadata": {},
     "output_type": "execute_result"
    }
   ],
   "source": [
    "#final plot of the trend of computational approaches per group between 2000 and 2023\n",
    "\n",
    "computational_group_trend_final = alt.vconcat(computational_group_trend_chart, computational_trend_proportion_bar_w_text)\n",
    "computational_group_trend_final"
   ]
  },
  {
   "cell_type": "code",
   "execution_count": null,
   "id": "ddb2d5a8",
   "metadata": {},
   "outputs": [],
   "source": []
  },
  {
   "cell_type": "code",
   "execution_count": null,
   "id": "fd8729ec",
   "metadata": {},
   "outputs": [],
   "source": []
  }
 ],
 "metadata": {
  "kernelspec": {
   "display_name": "Python (viz)",
   "language": "python",
   "name": "viz"
  },
  "language_info": {
   "codemirror_mode": {
    "name": "ipython",
    "version": 3
   },
   "file_extension": ".py",
   "mimetype": "text/x-python",
   "name": "python",
   "nbconvert_exporter": "python",
   "pygments_lexer": "ipython3",
   "version": "3.11.5"
  }
 },
 "nbformat": 4,
 "nbformat_minor": 5
}
